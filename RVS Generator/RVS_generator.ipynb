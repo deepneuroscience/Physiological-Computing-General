{
 "cells": [
  {
   "cell_type": "markdown",
   "metadata": {},
   "source": [
    "# RVS Generator\n",
    "## Authors: Alok Suresh, Chang Liu and Youngjun Cho\n",
    "## UCL Computer Science\n",
    "### Reference: Cho, Y., Bianchi-Berthouze, N., & Julier, S. J. (2017, October). DeepBreath: Deep learning of breathing patterns for automatic stress recognition using low-cost thermal imaging in unconstrained settings. In 2017 Seventh International Conference on Affective Computing and Intelligent Interaction (ACII) (pp. 456-463). IEEE."
   ]
  },
  {
   "cell_type": "markdown",
   "metadata": {
    "id": "KbSfL9FF6FjQ"
   },
   "source": [
    "# Setup Workspace"
   ]
  },
  {
   "cell_type": "code",
   "execution_count": null,
   "metadata": {
    "id": "GxhzUDNtK3aX"
   },
   "outputs": [],
   "source": [
    "#load packages\n",
    "import scipy\n",
    "from scipy import signal\n",
    "import numpy as np\n",
    "import pandas as pd\n",
    "import matplotlib.pyplot as plt\n",
    "%matplotlib inline\n",
    "\n",
    "import time\n",
    "from IPython import display\n",
    "from scipy.io import loadmat\n",
    "import itertools\n",
    "from itertools import combinations\n",
    "import math\n",
    "\n",
    "import pickle \n",
    "from scipy import fftpack\n",
    "import cv2\n",
    "from astropy.timeseries import LombScargle\n",
    "from IPython.display import Audio, display\n",
    "import PIL\n",
    "from PIL import Image\n",
    "\n",
    "from sklearn.cluster import KMeans\n",
    "from sklearn.preprocessing import MinMaxScaler\n",
    "import torch\n",
    "from torchvision import transforms\n",
    "from torchvision.transforms import Normalize, Resize, ToTensor\n"
   ]
  },
  {
   "cell_type": "markdown",
   "metadata": {
    "id": "HI4QJMqoMnuo"
   },
   "source": [
    "# Load Signal Arrays"
   ]
  },
  {
   "cell_type": "code",
   "execution_count": null,
   "metadata": {
    "id": "O9ejySQcMcob"
   },
   "outputs": [],
   "source": [
    "#Make dictionary of singal names and corresponding array index\n",
    "nums = [x for x in range(1,33,1)]\n",
    "signal_names =  ['Resp']\n",
    "index = [x for x in range(40)]\n",
    "signal_dict = dict(zip(signal_names, index))"
   ]
  },
  {
   "cell_type": "code",
   "execution_count": null,
   "metadata": {
    "colab": {
     "base_uri": "https://localhost:8080/",
     "height": 84
    },
    "id": "hBBGxg1nMg_-",
    "outputId": "6b55a82d-9ac0-487f-a387-e58d4f7072c4"
   },
   "outputs": [
    {
     "name": "stdout",
     "output_type": "stream",
     "text": [
      "(32, 40, 8064)\n",
      "(32, 40, 8064)\n",
      "(1280, 8064)\n",
      "(1280, 8064)\n"
     ]
    }
   ],
   "source": [
    "#Load spectrograms\n",
    "filename='yourown file name'\n",
    "\n",
    "def get_f(participant):\n",
    "  with open(filename.format(participant), 'rb') as f:\n",
    "      u = pickle._Unpickler(f)\n",
    "      u.encoding = 'latin1'\n",
    "      p = u.load()\n",
    "    \n",
    "  return np.asarray(p['data'])\n",
    "\n",
    "\n",
    "all_resp = []\n",
    "resp_dict = {}\n",
    "\n",
    "#Save spectrograms for each participant into seperate arrays\n",
    "for i in np.arange(1,33,1):\n",
    "  if i < 10:\n",
    "    part = '0'+str(i)\n",
    "  else:\n",
    "    part = str(i)\n",
    "    \n",
    "  resp_dict.update({part : []})\n",
    "\n",
    "  data = get_f(part)\n",
    "  resp_ind = signal_dict['Resp']\n",
    "  all_resp.append(data[:,resp_ind])\n",
    "\n",
    "all_resp_array = np.stack(all_resp)\n",
    "\n",
    "print(all_resp_array.shape)\n",
    "\n",
    "#Reshape arrays to 32 x 40 = 1280 (total num  samples)\n",
    "all_resp_reshape = np.reshape(all_resp_array, (1280,8064))\n",
    "\n",
    "print(all_resp_reshape.shape)"
   ]
  },
  {
   "cell_type": "markdown",
   "metadata": {
    "id": "QbyRwtu-MQxY"
   },
   "source": [
    "# Spectrogram Generation"
   ]
  },
  {
   "cell_type": "code",
   "execution_count": null,
   "metadata": {
    "id": "rzHQido0MIqY"
   },
   "outputs": [],
   "source": [
    "#Overlapping sliding window\n",
    "def overlap_windows(data,overlap_rate,window_size):\n",
    "    window_list = []\n",
    "    start = 0\n",
    "    end = window_size\n",
    "    remain_length = len(data)\n",
    "    \n",
    "    while remain_length>=window_size:\n",
    "        window_list.append(data[int(round(start+0.01)):int(round(end+0.01))])\n",
    "        start += overlap_rate*window_size #start and end overlap 1\n",
    "        end += overlap_rate*window_size\n",
    "        remain_length -= overlap_rate*window_size \n",
    "    \n",
    "    return window_list\n",
    "\n",
    "#Gaussian window function\n",
    "def gausswin(L, alpha=2.5):\n",
    "    N = L - 1\n",
    "    n = np.arange(0,N+1)-N/2\n",
    "    w = np.exp(-(1/2)*(alpha*n /(N /2))**2)\n",
    "    return w\n"
   ]
  },
  {
   "cell_type": "code",
   "execution_count": null,
   "metadata": {
    "id": "DaphAuprMPu5"
   },
   "outputs": [],
   "source": [
    "#single rvs\n",
    "def rvs_single(Fss,x0):#t0: #7.5\n",
    "\n",
    "    #Define spectroram parameters\n",
    "    Tmax = 7.5\n",
    "    lag = Tmax*Fss #samples per sec x sec'\n",
    "\n",
    "    #Retreive list of windowed signal segments\n",
    "    window_list = overlap_windows(x0,0.05,lag) #0.01\n",
    "\n",
    "    s_PSD_1 = []\n",
    "\n",
    "    print(\"Num windows :\", len(window_list))\n",
    "\n",
    "    #Cyclye over each windowed segement of current signal\n",
    "    for i in range(len(window_list)):\n",
    "\n",
    "        #Min-max normalise signal data \n",
    "        data_use = window_list[i]\n",
    "        data_info = data_use.copy() #shallow copy\n",
    "\n",
    "        max_data = max(data_info)\n",
    "        min_data = min(data_info)\n",
    "        for j in range(len(data_info)):\n",
    "            data_info[j] = (data_info[j]-min_data)/(max_data-min_data)\n",
    "\n",
    "        #Filter paramters\n",
    "        filterN = 3 \n",
    "        Wn1=0.8\n",
    "        Wn2=2.3\n",
    "        Fn=128/2\n",
    "\n",
    "        #Band pass filter signal using elliptic filter \n",
    "        filter_b, filter_a = scipy.signal.ellip(filterN,3,6,[Wn1/Fn,Wn2/Fn],btype='bandpass')\n",
    "        filtered_featurescaled_data = scipy.signal.lfilter(filter_b,filter_a,data_info,axis=0)\n",
    "        w = gausswin(lag) #335\n",
    "\n",
    "        #Convolve with gaussian\n",
    "        gaussian_final_window = np.array(filtered_featurescaled_data*w.T,dtype='float64')\n",
    "    \n",
    "        #Compute periodogram of signal data\n",
    "        t = np.arange(0, (len(gaussian_final_window))/Fss, 1/Fss)\n",
    "        dy = 0.1\n",
    "        frequency, freq_amplitude = LombScargle(t, gaussian_final_window, dy).autopower(\n",
    "                                                   samples_per_peak=150)\n",
    "        #print(frequency.shape)\n",
    "        #print(freq_amplitude.shape)\n",
    "        #STACK PSD IN SLIDING WNNDOW\n",
    "        s_PSD_1.append(freq_amplitude[0:2000])\n",
    "\n",
    "    s_PSD_1 = np.array(s_PSD_1).T\n",
    "    ss_PSD_1=s_PSD_1[:,:]\n",
    "\n",
    "    return ss_PSD_1    "
   ]
  },
  {
   "cell_type": "code",
   "execution_count": null,
   "metadata": {
    "colab": {
     "base_uri": "https://localhost:8080/",
     "height": 67
    },
    "id": "L3Wt5XgpNWj8",
    "outputId": "3261e223-c0c7-43f4-ec83-1de12c4a2c8c"
   },
   "outputs": [
    {
     "name": "stdout",
     "output_type": "stream",
     "text": [
      "Generating for Video 1 ...\n",
      "Num windows : 149\n",
      "Process finished --- 76.23115825653076 seconds ---\n"
     ]
    }
   ],
   "source": [
    "start_time = time.time()\n",
    "parts = list(resp_dict.keys())\n",
    "\n",
    "#Generate spectrograms for each participant \n",
    "count = 0\n",
    "gen_specs = []\n",
    "\n",
    "#3, 2:3\n",
    "#6, 14:15\n",
    "for sig in all_resp[0][0:1]:\n",
    "  print(\"Generating for Video\",count+1,\"...\")\n",
    "  spectrogram = rvs_single(128,sig)\n",
    "  gen_specs.append(spectrogram)\n",
    "  count += 1\n",
    "\n",
    "print(\"Process finished --- %s seconds ---\" % ((time.time() - start_time)))"
   ]
  },
  {
   "cell_type": "markdown",
   "metadata": {
    "id": "GWokXZ9So1HS"
   },
   "source": [
    "# Spectrogram Resizing"
   ]
  },
  {
   "cell_type": "markdown",
   "metadata": {
    "id": "BPOklAY2g1eX"
   },
   "source": [
    "## Original Resize (80 x 80)"
   ]
  },
  {
   "cell_type": "code",
   "execution_count": null,
   "metadata": {
    "colab": {
     "base_uri": "https://localhost:8080/",
     "height": 34
    },
    "id": "eLcAVJpeoEq6",
    "outputId": "ef2d94be-6537-4986-b362-6f214a5c75f9"
   },
   "outputs": [
    {
     "name": "stdout",
     "output_type": "stream",
     "text": [
      "(2000, 149)\n"
     ]
    }
   ],
   "source": [
    "#Set target dimensions for resize \n",
    "composed = transforms.Compose([ Resize(size=(120,120)),\n",
    "                                ToTensor()])\n",
    "\n",
    "#Resize spectrogram for current participant\n",
    "spec_list = []\n",
    "for resp_spec in gen_specs:\n",
    "  print(resp_spec.shape)\n",
    "  out2 = composed(Image.fromarray(resp_spec))\n",
    "  out2 = np.transpose(out2.data.numpy(), (1, 2, 0))\n",
    "  out2 = out2[:,:,0]\n",
    "  spec_list.append(out2)\n",
    "\n",
    "#Save spectrograms in seperate np file for each particiapnt\n",
    "spec_array = np.stack(spec_list)\n",
    "np.save('20resp_spec_21.npy', spec_array)"
   ]
  },
  {
   "cell_type": "code",
   "execution_count": null,
   "metadata": {
    "colab": {
     "base_uri": "https://localhost:8080/",
     "height": 352
    },
    "id": "q_aucsM2ecS5",
    "outputId": "6347c163-ebbc-4b44-964e-6ccadfe1a1b7"
   },
   "outputs": [
    {
     "data": {
      "image/png": "[encoded data removed]",
      "text/plain": [
       "<Figure size 640x400 with 1 Axes>"
      ]
     },
     "metadata": {
      "tags": []
     },
     "output_type": "display_data"
    }
   ],
   "source": [
    "#View samples of spectograms \n",
    "test_spec = np.load('20resp_spec_21.npy')\n",
    "\n",
    "for i in range(len(test_spec)):\n",
    "  plt.figure(figsize=(8,5), dpi= 80, facecolor='w', edgecolor='k')\n",
    "  plt.imshow(test_spec[i],origin='lower')\n",
    "  plt.show()\n",
    "  \n"
   ]
  }
 ],
 "metadata": {
  "colab": {
   "collapsed_sections": [],
   "include_colab_link": true,
   "name": "Spectrograms_Labels.ipynb",
   "provenance": []
  },
  "kernelspec": {
   "display_name": "Python 3",
   "language": "python",
   "name": "python3"
  },
  "language_info": {
   "codemirror_mode": {
    "name": "ipython",
    "version": 3
   },
   "file_extension": ".py",
   "mimetype": "text/x-python",
   "name": "python",
   "nbconvert_exporter": "python",
   "pygments_lexer": "ipython3",
   "version": "3.7.3"
  }
 },
 "nbformat": 4,
 "nbformat_minor": 1
}
